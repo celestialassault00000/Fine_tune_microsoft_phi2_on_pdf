{
 "cells": [
  {
   "cell_type": "code",
   "execution_count": 3,
   "metadata": {},
   "outputs": [],
   "source": [
    "import PyPDF2\n",
    "import json\n",
    "\n",
    "def split_text_into_chunks(text, chunk_size):\n",
    "    chunks = []\n",
    "    for i in range(0, len(text), chunk_size):\n",
    "        chunks.append(text[i:i+chunk_size])\n",
    "    return chunks\n",
    "\n",
    "def save_chunks_to_jsonl(chunks, output_file):\n",
    "    with open(output_file, 'w') as f:\n",
    "        for chunk in chunks:\n",
    "            data = {'text': chunk}\n",
    "            f.write(json.dumps(data) + '\\n')\n",
    "\n",
    "def read_pdf_and_save_chunks(pdf_file, start_page, chunk_size, output_file):\n",
    "    with open(pdf_file, 'rb') as file:\n",
    "        pdf_reader = PyPDF2.PdfReader(file)\n",
    "        text = ''\n",
    "        for page_num in range(start_page - 1, len(pdf_reader.pages)):\n",
    "            page = pdf_reader.pages[page_num]\n",
    "            text += page.extract_text()\n",
    "        chunks = split_text_into_chunks(text, chunk_size)\n",
    "        save_chunks_to_jsonl(chunks, output_file)\n",
    "\n",
    "if __name__ == \"__main__\":\n",
    "    pdf_file = 'environmental engineering.pdf'  # Change this to your PDF file path\n",
    "    start_page = 10\n",
    "    chunk_size = 1500\n",
    "    output_file = 'output.jsonl'\n",
    "\n",
    "    read_pdf_and_save_chunks(pdf_file, start_page, chunk_size, output_file)\n"
   ]
  },
  {
   "cell_type": "code",
   "execution_count": 4,
   "metadata": {},
   "outputs": [
    {
     "data": {
      "application/vnd.jupyter.widget-view+json": {
       "model_id": "ed4bbe0f02bb42cdab3ec07ea124026d",
       "version_major": 2,
       "version_minor": 0
      },
      "text/plain": [
       "Downloading data files:   0%|          | 0/1 [00:00<?, ?it/s]"
      ]
     },
     "metadata": {},
     "output_type": "display_data"
    },
    {
     "data": {
      "application/vnd.jupyter.widget-view+json": {
       "model_id": "f75578ba34dc48ea85ac66a8aed6b968",
       "version_major": 2,
       "version_minor": 0
      },
      "text/plain": [
       "Extracting data files:   0%|          | 0/1 [00:00<?, ?it/s]"
      ]
     },
     "metadata": {},
     "output_type": "display_data"
    },
    {
     "data": {
      "application/vnd.jupyter.widget-view+json": {
       "model_id": "2b02741577bc42db967daf064430ab39",
       "version_major": 2,
       "version_minor": 0
      },
      "text/plain": [
       "Generating train split: 0 examples [00:00, ? examples/s]"
      ]
     },
     "metadata": {},
     "output_type": "display_data"
    },
    {
     "name": "stdout",
     "output_type": "stream",
     "text": [
      "DatasetDict({\n",
      "    train: Dataset({\n",
      "        features: ['text'],\n",
      "        num_rows: 1834\n",
      "    })\n",
      "})\n"
     ]
    }
   ],
   "source": [
    "from datasets import load_dataset\n",
    "\n",
    "if __name__ == \"__main__\":\n",
    "    jsonl_file = 'output.jsonl'  # Change this to the path of your JSON Lines file\n",
    "    dataset = load_dataset('json', data_files=jsonl_file)\n",
    "    print(dataset)\n"
   ]
  }
 ],
 "metadata": {
  "kernelspec": {
   "display_name": "venv",
   "language": "python",
   "name": "python3"
  },
  "language_info": {
   "codemirror_mode": {
    "name": "ipython",
    "version": 3
   },
   "file_extension": ".py",
   "mimetype": "text/x-python",
   "name": "python",
   "nbconvert_exporter": "python",
   "pygments_lexer": "ipython3",
   "version": "3.11.9"
  }
 },
 "nbformat": 4,
 "nbformat_minor": 2
}
